{
 "cells": [
  {
   "cell_type": "markdown",
   "metadata": {},
   "source": [
    "# Acessando a DBPedia\n",
    "\n",
    "Considere a página na Wikipedia do livro [The Tin Drum](https://en.wikipedia.org/wiki/The_Tin_Drum).\n",
    "\n",
    "Há um nó equivalente na DBPedia em [The Tin Drum](http://dbpedia.org/page/The_Tin_Drum).\n",
    "\n",
    "## Carregando um nó da DBPedia\n",
    "\n",
    "A partir do que aprendemos na aula sobre APIs, é possível carregar o conteúdo em JSON desse nó da seguinte maneira:"
   ]
  },
  {
   "cell_type": "code",
   "execution_count": null,
   "metadata": {},
   "outputs": [],
   "source": [
    "import io\n",
    "import requests\n",
    "import json\n",
    "url_drum = \"http://dbpedia.org/data/The_Tin_Drum.jsod\"\n",
    "js_drum = requests.get(url_drum)\n",
    "print(js_drum.content.decode(\"utf-8\"))"
   ]
  },
  {
   "cell_type": "markdown",
   "metadata": {},
   "source": [
    "# Acessando e navegando pelo Grafo\n",
    "### Quem é autor de The Tin Drum?"
   ]
  },
  {
   "cell_type": "code",
   "execution_count": 2,
   "metadata": {},
   "outputs": [
    {
     "name": "stdout",
     "output_type": "stream",
     "text": [
      "Autor de The Tin Drum: http://dbpedia.org/resource/Günter_Grass\n"
     ]
    }
   ],
   "source": [
    "json_drum = js_drum.json()\n",
    "url_grass = json_drum[\"d\"][\"results\"][0][\"http://dbpedia.org/ontology/author\"][\"__deferred\"][\"uri\"]\n",
    "print(\"Autor de The Tin Drum: \" + url_grass)"
   ]
  },
  {
   "cell_type": "markdown",
   "metadata": {},
   "source": [
    "## Tarefa\n",
    "\n",
    "### Carregue o nó de Günter Grass em Python e mostre o conteúdo JSON."
   ]
  },
  {
   "cell_type": "code",
   "execution_count": 3,
   "metadata": {},
   "outputs": [
    {
     "name": "stdout",
     "output_type": "stream",
     "text": [
      "{ \"d\" : { \n",
      "  \"results\": [ \n",
      "    { \"__metadata\": { \"uri\": \"http://dbpedia.org/resource/Günter_Grass\" }, \n",
      "      \"http://dbpedia.org/ontology/abstract\": \"Günter Wilhelm Grass (German: [ˈɡʏntɐ ˈɡʁas]; 16 October 1927 – 13 April 2015) was a German novelist, poet, playwright, illustrator, graphic artist, sculptor, and recipient of the 1999 Nobel Prize in Literature. He was born in the Free City of Danzig (now Gdańsk, Poland). As a teenager, he served as a drafted soldier from late 1944 in the Waffen-SS, and was taken prisoner of war by U.S. forces at the end of the war in May 1945. He was released in April 1946. Trained as a stonemason and sculptor, Grass began writing in the 1950s. In his fiction, he frequently returned to the Danzig of his childhood. Grass is best known for his first novel, The Tin Drum (1959), a key text in European magic realism. It was the first book of his Danzig Trilogy, the other two being Cat and Mouse and Dog Years. His works are frequently considered to have a left-wing political dimension, and Grass was an active supporter of the Social Democratic Party of Germany (SPD). The Tin Drum was adapted as a film of the same name, which won both the 1979 Palme d&#39;Or and the Academy Award for Best Foreign Language Film. In 1999, the Swedish Academy awarded him the Nobel Prize in Literature, praising him as a writer &quot;whose frolicsome black fables portray the forgotten face of history&quot;.\", \n",
      "      \"http://www.w3.org/1999/02/22-rdf-syntax-ns#type\": { \"__deferred\": { \"uri\": \"http://dbpedia.org/class/yago/Politician110450303\" } }, \n",
      "      \"http://www.w3.org/1999/02/22-rdf-syntax-ns#type\": { \"__deferred\": { \"uri\": \"http://dbpedia.org/class/yago/WikicatLivingPeople\" } }, \n",
      "      \"http://www.w3.org/2000/01/rdf-schema#label\": \"Günter Grass\", \n",
      "      \"http://www.w3.org/1999/02/22-rdf-syntax-ns#type\": { \"__deferred\": { \"uri\": \"http://dbpedia.org/class/yago/Exile110071332\" } }, \n",
      "      \"http://www.w3.org/1999/02/22-rdf-syntax-ns#type\": { \"__deferred\": { \"uri\": \"http://dbpedia.org/class/yago/Biographer109855433\" } }, \n",
      "      \"http://www.w3.org/2000/01/rdf-schema#label\": \"غونتر غراس\", \n",
      "      \"http://www.w3.org/2002/07/owl#sameAs\": { \"__deferred\": { \"uri\": \"http://pt.dbpedia.org/resource/Günter_Grass\" } }, \n",
      "      \"http://www.w3.org/1999/02/22-rdf-syntax-ns#type\": { \"__deferred\": { \"uri\": \"http://dbpedia.org/class/yago/Gambler110118844\" } }, \n",
      "      \"http://www.w3.org/1999/02/22-rdf-syntax-ns#type\": { \"__deferred\": { \"uri\": \"http://dbpedia.org/class/yago/Wikicat20th-centuryGermanWriters\" } }, \n",
      "      \"http://www.w3.org/1999/02/22-rdf-syntax-ns#type\": { \"__deferred\": { \"uri\": \"http://www.w3.org/2002/07/owl#Thing\" } }, \n",
      "      \"http://www.w3.org/2002/07/owl#sameAs\": { \"__deferred\": { \"uri\": \"http://sw.cyc.com/concept/Mx4rwQtl35wpEbGdrcN5Y29ycA\" } }, \n",
      "      \"http://www.w3.org/2002/07/owl#sameAs\": { \"__deferred\": { \"uri\": \"http://data.nytimes.com/46241240721110564453\" } }, \n",
      "      \"http://purl.org/dc/terms/description\": \"German novelist, poet, playwright, illustrator, graphic artist, sculptor\", \n",
      "      \"http://www.w3.org/ns/prov#wasDerivedFrom\": { \"__deferred\": { \"uri\": \"http://en.wikipedia.org/wiki/Günter_Grass?oldid=744781559\" } }, \n",
      "      \"http://dbpedia.org/property/title\": \"European of the Year\", \n",
      "      \"http://www.w3.org/1999/02/22-rdf-syntax-ns#type\": { \"__deferred\": { \"uri\": \"http://dbpedia.org/class/yago/Traveler109629752\" } }, \n",
      "      \"http://www.w3.org/1999/02/22-rdf-syntax-ns#type\": { \"__deferred\": { \"uri\": \"http://umbel.org/umbel/rc/PersonWithOccupation\" } }, \n",
      "      \"http://www.w3.org/1999/02/22-rdf-syntax-ns#type\": { \"__deferred\": { \"uri\": \"http://dbpedia.org/class/yago/SkilledWorker110605985\" } }, \n",
      "      \"http://www.w3.org/1999/02/22-rdf-syntax-ns#type\": { \"__deferred\": { \"uri\": \"http://dbpedia.org/ontology/Agent\" } }, \n",
      "      \"http://dbpedia.org/ontology/abstract\": \"غونتر غراس (بالألمانية: Günter Grass) أديب ألماني (16 أكتوبر 1927 - 13 أبريل 2015) ولد في في مدينة دانتسيغ (ضمت إلى بولندا بعد الحرب العالمية الثانية). شارك غونتر غراس سنة 1944 في الحرب العالمية الثانية كمساعد في سلاح الطيران الألماني. وبعد انتهاء الحرب وقع سنة 1946 في أسر القوات الأمريكية إلى أن أطلق سراحه في نفس السنة. يعد غونتر غراس أحد أهم الأدباء الألمان في فترة ما بعد الحرب العالمية الثانية, حاز على جائزة نوبل للآداب سنة 1999.عاش آخر أيامه بالقرب من مدينة لوبيك في شمال ألمانيا.\", \n",
      "      \"http://www.w3.org/1999/02/22-rdf-syntax-ns#type\": { \"__deferred\": { \"uri\": \"http://dbpedia.org/class/yago/Wikicat21st-centuryNovelists\" } }, \n",
      "      \"http://dbpedia.org/ontology/activeYearsEndYear\": \"2013\", \n",
      "      \"http://www.w3.org/1999/02/22-rdf-syntax-ns#type\": { \"__deferred\": { \"uri\": \"http://dbpedia.org/class/yago/Poet110444194\" } }, \n",
      "      \"http://www.w3.org/1999/02/22-rdf-syntax-ns#type\": { \"__deferred\": { \"uri\": \"http://dbpedia.org/class/yago/Printmaker110475687\" } }, \n",
      "      \"http://dbpedia.org/ontology/abstract\": \"Гюнтер Грасс (нем. Günter Grass или Graß [ˈɡʏntɐ ˈɡʀas]; 16 октября 1927, Вольный город Данциг — 13 апреля 2015, Любек, Германия) — немецкий писатель, скульптор, художник, график, лауреат Нобелевской премии по литературе 1999 года.\", \n",
      "      \"http://www.w3.org/1999/02/22-rdf-syntax-ns#type\": { \"__deferred\": { \"uri\": \"http://dbpedia.org/class/yago/WikicatGermanEssayists\" } }, \n",
      "      \"http://www.w3.org/1999/02/22-rdf-syntax-ns#type\": { \"__deferred\": { \"uri\": \"http://dbpedia.org/class/yago/Associate109816771\" } }, \n",
      "      \"http://www.w3.org/1999/02/22-rdf-syntax-ns#type\": { \"__deferred\": { \"uri\": \"http://dbpedia.org/class/yago/WikicatGermanNobelLaureates\" } }, \n",
      "      \"http://www.w3.org/2000/01/rdf-schema#comment\": \"ギュンター・グラス（Günter Grass, 1927年10月16日 - 2015年4月13日）は、ドイツの小説家、劇作家、版画家、彫刻家。代表作に『ブリキの太鼓』など。1999年にノーベル文学賞受賞。\", \n",
      "      \"http://www.w3.org/1999/02/22-rdf-syntax-ns#type\": { \"__deferred\": { \"uri\": \"http://dbpedia.org/class/yago/WikicatPeopleFromTheFreeCityOfDanzig\" } }, \n",
      "      \"http://www.w3.org/1999/02/22-rdf-syntax-ns#type\": { \"__deferred\": { \"uri\": \"http://dbpedia.org/class/yago/Soldier110622053\" } }, \n",
      "      \"http://www.w3.org/2002/07/owl#sameAs\": { \"__deferred\": { \"uri\": \"http://yago-knowledge.org/resource/Günter_Grass\" } }, \n",
      "      \"http://www.w3.org/1999/02/22-rdf-syntax-ns#type\": { \"__deferred\": { \"uri\": \"http://dbpedia.org/class/yago/Intellectual109621545\" } }, \n",
      "      \"http://purl.org/dc/terms/subject\": { \"__deferred\": { \"uri\": \"http://dbpedia.org/resource/Category:21st-century_essayists\" } }, \n",
      "      \"http://www.w3.org/2000/01/rdf-schema#label\": \"Грасс, Гюнтер\", \n",
      "      \"http://www.w3.org/2002/07/owl#sameAs\": { \"__deferred\": { \"uri\": \"http://dbpedia.org/resource/Günter_Grass\" } }, \n",
      "      \"http://www.w3.org/1999/02/22-rdf-syntax-ns#type\": { \"__deferred\": { \"uri\": \"http://dbpedia.org/class/yago/Illustrator109812068\" } }, \n",
      "      \"http://www.w3.org/1999/02/22-rdf-syntax-ns#type\": { \"__deferred\": { \"uri\": \"http://dbpedia.org/class/yago/WikicatWritersWhoIllustratedTheirOwnWriting\" } }, \n",
      "      \"http://purl.org/dc/terms/subject\": { \"__deferred\": { \"uri\": \"http://dbpedia.org/resource/Category:German-language_poets\" } }, \n",
      "      \"http://www.w3.org/2000/01/rdf-schema#label\": \"Günter Grass\", \n",
      "      \"http://purl.org/dc/terms/subject\": { \"__deferred\": { \"uri\": \"http://dbpedia.org/resource/Category:21st-century_German_poets\" } }, \n",
      "      \"http://www.w3.org/1999/02/22-rdf-syntax-ns#type\": { \"__deferred\": { \"uri\": \"http://dbpedia.org/class/yago/Laureate110249011\" } }, \n",
      "      \"http://www.w3.org/1999/02/22-rdf-syntax-ns#type\": { \"__deferred\": { \"uri\": \"http://dbpedia.org/class/yago/WikicatGermanPoets\" } }, \n",
      "      \"http://www.w3.org/1999/02/22-rdf-syntax-ns#type\": { \"__deferred\": { \"uri\": \"http://dbpedia.org/class/yago/EnlistedPerson110058777\" } }, \n",
      "      \"http://purl.org/dc/terms/subject\": { \"__deferred\": { \"uri\": \"http://dbpedia.org/resource/Category:German_people_of_Kashubian_descent\" } }, \n",
      "      \"http://dbpedia.org/ontology/wikiPageID\": \"23473348\", \n",
      "      \"http://www.w3.org/2000/01/rdf-schema#comment\": \"君特·威廉·格拉斯（Günter Wilhelm Grass，1927年10月16日－2015年4月13日）是德國作家，出生於但澤自由市（今日波蘭格但斯克），也是1999年諾貝爾文學獎得主。他被廣泛的視是德國最有名的作家之一。他於1965年獲得格奧爾格·畢希納獎（Georg Büchner Prize），並於1993年被選為英國皇家文學會榮譽院士，他在1995年獲得赫爾曼·凱斯滕獎。 君特·威廉·格拉斯最著名的作品是《铁皮鼓》，它是欧洲魔幻现实主义的代表作品，也是但澤三部曲的第一部作品（另外兩部作品是《貓與老鼠》與《狗年月》）。他的作品具有浓厚的政治色彩，被視為有左翼作家，而他也是德国社会民主党的支持者。瑞典皇家科學院授予他1999年諾貝爾文學獎，認為他「以嬉戲中蘊含悲劇色彩的寓言描摹出了人類淡忘的歷史面目。」\", \n",
      "      \"http://www.w3.org/1999/02/22-rdf-syntax-ns#type\": { \"__deferred\": { \"uri\": \"http://dbpedia.org/class/yago/Object100002684\" } }, \n",
      "      \"http://www.w3.org/1999/02/22-rdf-syntax-ns#type\": { \"__deferred\": { \"uri\": \"http://dbpedia.org/class/yago/Acquirer109764201\" } }, \n",
      "      \"http://purl.org/dc/terms/subject\": { \"__deferred\": { \"uri\": \"http://dbpedia.org/resource/Category:German_male_novelists\" } }, \n",
      "      \"http://www.w3.org/2000/01/rdf-schema#comment\": \"Günter Wilhelm Grass (Danzig-Langfuhr, 16 oktober 1927 – Lübeck, 13 april 2015) was een Duitse schrijver en beeldend kunstenaar van Duits-Kasjoebische afkomst. In 1999 ontving hij de Nobelprijs voor de Literatuur.\", \n",
      "      \"http://purl.org/dc/terms/subject\": { \"__deferred\": { \"uri\": \"http://dbpedia.org/resource/Category:20th-century_German_sculptors\" } }, \n",
      "      \"http://www.w3.org/1999/02/22-rdf-syntax-ns#type\": { \"__deferred\": { \"uri\": \"http://dbpedia.org/class/yago/Honoree110183757\" } }, \n",
      "      \"http://xmlns.com/foaf/0.1/depiction\": { \"__deferred\": { \"uri\": \"http://commons.wikimedia.org/wiki/Special:FilePath/Günter_Grass_auf_dem_Blauen_Sofa.jpg\" } }, \n",
      "      \"http://www.w3.org/2002/07/owl#sameAs\": { \"__deferred\": { \"uri\": \"http://ko.dbpedia.org/resource/귄터_그라스\" } }, \n",
      "      \"http://dbpedia.org/ontology/notableWork\": { \"__deferred\": { \"uri\": \"http://dbpedia.org/resource/Dog_Years_(novel)\" } }, \n",
      "      \"http://dbpedia.org/property/signature\": \"Günter Grass signature new.svg\", \n",
      "      \"http://purl.org/dc/terms/subject\": { \"__deferred\": { \"uri\": \"http://dbpedia.org/resource/Category:German_memoirists\" } }, \n",
      "      \"http://purl.org/dc/terms/subject\": { \"__deferred\": { \"uri\": \"http://dbpedia.org/resource/Category:German_autobiographers\" } }, \n",
      "      \"http://www.w3.org/1999/02/22-rdf-syntax-ns#type\": { \"__deferred\": { \"uri\": \"http://dbpedia.org/class/yago/Serviceman110582746\" } }, \n",
      "      \"http://www.w3.org/1999/02/22-rdf-syntax-ns#type\": { \"__deferred\": { \"uri\": \"http://dbpedia.org/class/yago/WikicatFellowsOfTheRoyalSocietyOfLiterature\" } }, \n",
      "      \"http://www.w3.org/1999/02/22-rdf-syntax-ns#type\": { \"__deferred\": { \"uri\": \"http://dbpedia.org/class/yago/WikicatGeorgBüchnerPrizeWinners\" } }, \n",
      "      \"http://www.w3.org/2000/01/rdf-schema#comment\": \"Günter Wilhelm Grass (* 16. Oktober 1927 in Danzig-Langfuhr, Freie Stadt Danzig als Günter Wilhelm Graß; † 13. April 2015 in Lübeck) war ein deutscher Schriftsteller, Bildhauer, Maler und Grafiker. Grass gehörte seit 1957 zur Gruppe 47 und wurde mit seinem Debütroman Die Blechtrommel 1959 zu einem international geachteten Autor der deutschen Nachkriegsliteratur.\", \n",
      "      \"http://dbpedia.org/property/years\": \"2012\", \n",
      "      \"http://dbpedia.org/ontology/birthPlace\": { \"__deferred\": { \"uri\": \"http://dbpedia.org/resource/Free_City_of_Danzig\" } }, \n",
      "      \"http://www.w3.org/2002/07/owl#sameAs\": { \"__deferred\": { \"uri\": \"http://data.europa.eu/euodp/jrc-names/G%C3%BCnther_Grass\" } }, \n",
      "      \"http://www.w3.org/1999/02/22-rdf-syntax-ns#type\": { \"__deferred\": { \"uri\": \"http://dbpedia.org/class/yago/WikicatMagicRealismWriters\" } }, \n",
      "      \"http://dbpedia.org/ontology/abstract\": \"Günter Wilhelm Grass (Danzig, 16 de outubro de 1927 – Lübeck, 13 de abril de 2015) foi um autor, romancista, dramaturgo, poeta, intelectual, e artista plástico alemão. Sua obra alternou a atividade literária com a escultura, enquanto participava de forma ativa da vida pública de seu país. Recebeu o Nobel de Literatura de 1999. Também é reconhecido como um dos principais representantes do teatro do absurdo da Alemanha. Seu nome é por vezes grafado Günter Graß.\", \n",
      "      \"http://purl.org/dc/terms/subject\": { \"__deferred\": { \"uri\": \"http://dbpedia.org/resource/Category:German_dramatists_and_playwrights\" } }, \n",
      "      \"http://dbpedia.org/ontology/language\": { \"__deferred\": { \"uri\": \"http://dbpedia.org/resource/German_language\" } }, \n",
      "      \"http://purl.org/dc/terms/subject\": { \"__deferred\": { \"uri\": \"http://dbpedia.org/resource/Category:Kashubian_poets\" } }, \n",
      "      \"http://www.w3.org/1999/02/22-rdf-syntax-ns#type\": { \"__deferred\": { \"uri\": \"http://schema.org/Person\" } }, \n",
      "      \"http://www.w3.org/1999/02/22-rdf-syntax-ns#type\": { \"__deferred\": { \"uri\": \"http://dbpedia.org/class/yago/Scholar110557854\" } }, \n",
      "      \"http://purl.org/dc/terms/subject\": { \"__deferred\": { \"uri\": \"http://dbpedia.org/resource/Category:German_essayists\" } }, \n",
      "      \"http://dbpedia.org/ontology/ethnicity\": { \"__deferred\": { \"uri\": \"http://dbpedia.org/resource/Kashubians\" } }, \n",
      "      \"http://www.w3.org/2000/01/rdf-schema#label\": \"ギュンター・グラス\", \n",
      "      \"http://www.w3.org/1999/02/22-rdf-syntax-ns#type\": { \"__deferred\": { \"uri\": \"http://dbpedia.org/class/yago/WikicatGermanArtists\" } }, \n",
      "      \"http://purl.org/dc/terms/subject\": { \"__deferred\": { \"uri\": \"http://dbpedia.org/resource/Category:Kunstakademie_Düsseldorf_alumni\" } }, \n",
      "      \"http://purl.org/dc/terms/subject\": { \"__deferred\": { \"uri\": \"http://dbpedia.org/resource/Category:Georg_Büchner_Prize_winners\" } }, \n",
      "      \"http://www.w3.org/2000/01/rdf-schema#label\": \"Günter Grass\", \n",
      "      \"http://dbpedia.org/ontology/abstract\": \"Günter Wilhelm Grass (* 16. Oktober 1927 in Danzig-Langfuhr, Freie Stadt Danzig als Günter Wilhelm Graß; † 13. April 2015 in Lübeck) war ein deutscher Schriftsteller, Bildhauer, Maler und Grafiker. Grass gehörte seit 1957 zur Gruppe 47 und wurde mit seinem Debütroman Die Blechtrommel 1959 zu einem international geachteten Autor der deutschen Nachkriegsliteratur. Grass’ Werk und Rolle als Autor und politischer Intellektueller war und ist Gegenstand umfangreicher Forschung sowie des Medieninteresses im In- und Ausland. Seine zentrale Motivation war der Verlust seiner Heimat Danzig und die Auseinandersetzung mit der nationalsozialistischen Vergangenheit, die sich vielfach in seinen Werken widerspiegelt. Seine Popularität als Schriftsteller nutzte er häufig, um das politische und gesellschaftliche Tagesgeschehen öffentlich zu kommentieren. Er war langjährig in Wahlkämpfen für die SPD und die Grünen aktiv und präsent. Grass’ Bücher wurden in zahlreiche Sprachen übersetzt und teilweise verfilmt. Im Jahr 1999 erhielt er den Nobelpreis für Literatur, er wurde mit einer Vielzahl weiterer Auszeichnungen geehrt.\", \n",
      "      \"http://www.w3.org/2000/01/rdf-schema#label\": \"君特·格拉斯\", \n",
      "      \"http://www.w3.org/1999/02/22-rdf-syntax-ns#type\": { \"__deferred\": { \"uri\": \"http://dbpedia.org/class/yago/WikicatKashubianPoets\" } }, \n",
      "      \"http://purl.org/dc/terms/subject\": { \"__deferred\": { \"uri\": \"http://dbpedia.org/resource/Category:People_from_the_Free_City_of_Danzig\" } }, \n",
      "      \"http://www.w3.org/1999/02/22-rdf-syntax-ns#type\": { \"__deferred\": { \"uri\": \"http://dbpedia.org/class/yago/WikicatGerman-languagePoets\" } }, \n",
      "      \"http://www.w3.org/1999/02/22-rdf-syntax-ns#type\": { \"__deferred\": { \"uri\": \"http://dbpedia.org/class/yago/Absentee109757653\" } }, \n",
      "      \"http://dbpedia.org/ontology/abstract\": \"Günter Wilhelm Grass (Ciudad libre de Dánzig, actual Polonia, 16 de octubre de 1927 - Lübeck, Alemania, 13 de abril de 2015) fue un escritor y artista alemán, galardonado con el Premio Nobel de Literatura y el Premio Príncipe de Asturias de las Letras, en 1999.\", \n",
      "      \"http://www.w3.org/2002/07/owl#sameAs\": { \"__deferred\": { \"uri\": \"http://es.dbpedia.org/resource/Günter_Grass\" } }, \n",
      "      \"http://www.w3.org/1999/02/22-rdf-syntax-ns#type\": { \"__deferred\": { \"uri\": \"http://www.wikidata.org/entity/Q36180\" } }, \n",
      "      \"http://purl.org/dc/terms/subject\": { \"__deferred\": { \"uri\": \"http://dbpedia.org/resource/Category:20th-century_dramatists_and_playwrights\" } }, \n",
      "      \"http://www.w3.org/1999/02/22-rdf-syntax-ns#type\": { \"__deferred\": { \"uri\": \"http://dbpedia.org/class/yago/Sculptor110566072\" } }, \n",
      "      \"http://www.w3.org/1999/02/22-rdf-syntax-ns#type\": { \"__deferred\": { \"uri\": \"http://umbel.org/umbel/rc/Writer\" } }, \n",
      "      \"http://purl.org/dc/terms/subject\": { \"__deferred\": { \"uri\": \"http://dbpedia.org/resource/Category:Male_essayists\" } }, \n",
      "      \"http://www.w3.org/1999/02/22-rdf-syntax-ns#type\": { \"__deferred\": { \"uri\": \"http://dbpedia.org/class/yago/WikicatNobelLaureatesInLiterature\" } }, \n",
      "      \"http://purl.org/dc/terms/subject\": { \"__deferred\": { \"uri\": \"http://dbpedia.org/resource/Category:Naturalized_citizens_of_Germany\" } }, \n",
      "      \"http://purl.org/dc/terms/subject\": { \"__deferred\": { \"uri\": \"http://dbpedia.org/resource/Category:Nobel_laureates_in_Literature\" } }, \n",
      "      \"http://purl.org/dc/terms/subject\": { \"__deferred\": { \"uri\": \"http://dbpedia.org/resource/Category:German_male_dramatists_and_playwrights\" } }, \n",
      "      \"http://dbpedia.org/ontology/movement\": { \"__deferred\": { \"uri\": \"http://dbpedia.org/resource/Vergangenheitsbewältigung\" } }, \n",
      "      \"http://purl.org/dc/terms/subject\": { \"__deferred\": { \"uri\": \"http://dbpedia.org/resource/Category:World_War_II_prisoners_of_war_held_by_the_United_States\" } }, \n",
      "      \"http://www.w3.org/2000/01/rdf-schema#comment\": \"Günter Wilhelm Grass (Ciudad libre de Dánzig, actual Polonia, 16 de octubre de 1927 - Lübeck, Alemania, 13 de abril de 2015) fue un escritor y artista alemán, galardonado con el Premio Nobel de Literatura y el Premio Príncipe de Asturias de las Letras, en 1999.\", \n",
      "      \"http://www.w3.org/1999/02/22-rdf-syntax-ns#type\": { \"__deferred\": { \"uri\": \"http://dbpedia.org/class/yago/Essayist110064405\" } }, \n",
      "      \"http://dbpedia.org/ontology/notableWork\": { \"__deferred\": { \"uri\": \"http://dbpedia.org/resource/Cat_and_Mouse_(novella)\" } }, \n",
      "      \"http://purl.org/dc/terms/subject\": { \"__deferred\": { \"uri\": \"http://dbpedia.org/resource/Category:SS_soldiers\" } }, \n",
      "      \"http://www.w3.org/1999/02/22-rdf-syntax-ns#type\": { \"__deferred\": { \"uri\": \"http://dbpedia.org/class/yago/Socialist110618848\" } }, \n",
      "      \"http://xmlns.com/foaf/0.1/gender\": \"male\", \n",
      "      \"http://purl.org/dc/terms/subject\": { \"__deferred\": { \"uri\": \"http://dbpedia.org/resource/Category:21st-century_German_novelists\" } }, \n",
      "      \"http://www.w3.org/2002/07/owl#sameAs\": { \"__deferred\": { \"uri\": \"http://data.europa.eu/euodp/jrc-names/G%C3%BCnter_Grass\" } }, \n",
      "      \"http://www.w3.org/2002/07/owl#sameAs\": { \"__deferred\": { \"uri\": \"http://eu.dbpedia.org/resource/Günter_Grass\" } }, \n",
      "      \"http://www.w3.org/2000/01/rdf-schema#label\": \"Günter Grass\", \n",
      "      \"http://purl.org/dc/terms/subject\": { \"__deferred\": { \"uri\": \"http://dbpedia.org/resource/Category:Waffen-SS_personnel\" } }, \n",
      "      \"http://www.w3.org/1999/02/22-rdf-syntax-ns#type\": { \"__deferred\": { \"uri\": \"http://dbpedia.org/ontology/Writer\" } }, \n",
      "      \"http://xmlns.com/foaf/0.1/name\": \"Günter Grass\", \n",
      "      \"http://dbpedia.org/property/caption\": \"Günter Grass in 2006\", \n",
      "      \"http://www.w3.org/1999/02/22-rdf-syntax-ns#type\": { \"__deferred\": { \"uri\": \"http://dbpedia.org/class/yago/WikicatGermanPeopleOfPolishDescent\" } }, \n",
      "      \"http://www.w3.org/1999/02/22-rdf-syntax-ns#type\": { \"__deferred\": { \"uri\": \"http://dbpedia.org/class/yago/WikicatSocialists\" } }, \n",
      "      \"http://dbpedia.org/ontology/abstract\": \"君特·威廉·格拉斯（Günter Wilhelm Grass，1927年10月16日－2015年4月13日）是德國作家，出生於但澤自由市（今日波蘭格但斯克），也是1999年諾貝爾文學獎得主。他被廣泛的視是德國最有名的作家之一。他於1965年獲得格奧爾格·畢希納獎（Georg Büchner Prize），並於1993年被選為英國皇家文學會榮譽院士，他在1995年獲得赫爾曼·凱斯滕獎。 君特·威廉·格拉斯最著名的作品是《铁皮鼓》，它是欧洲魔幻现实主义的代表作品，也是但澤三部曲的第一部作品（另外兩部作品是《貓與老鼠》與《狗年月》）。他的作品具有浓厚的政治色彩，被視為有左翼作家，而他也是德国社会民主党的支持者。瑞典皇家科學院授予他1999年諾貝爾文學獎，認為他「以嬉戲中蘊含悲劇色彩的寓言描摹出了人類淡忘的歷史面目。」\", \n",
      "      \"http://www.w3.org/1999/02/22-rdf-syntax-ns#type\": { \"__deferred\": { \"uri\": \"http://dbpedia.org/class/yago/WikicatNaturalizedCitizensOfGermany\" } }, \n",
      "      \"http://www.w3.org/1999/02/22-rdf-syntax-ns#type\": { \"__deferred\": { \"uri\": \"http://dbpedia.org/class/yago/Person100007846\" } }, \n",
      "      \"http://www.w3.org/1999/02/22-rdf-syntax-ns#type\": { \"__deferred\": { \"uri\": \"http://dbpedia.org/class/yago/Alumnus109786338\" } }, \n",
      "      \"http://www.w3.org/2000/01/rdf-schema#label\": \"Günter Grass\", \n",
      "      \"http://purl.org/dc/terms/subject\": { \"__deferred\": { \"uri\": \"http://dbpedia.org/resource/Category:German_Roman_Catholics\" } }, \n",
      "      \"http://www.w3.org/2000/01/rdf-schema#comment\": \"Günter Wilhelm Grass (Danzig, 16 de outubro de 1927 – Lübeck, 13 de abril de 2015) foi um autor, romancista, dramaturgo, poeta, intelectual, e artista plástico alemão. Sua obra alternou a atividade literária com a escultura, enquanto participava de forma ativa da vida pública de seu país. Recebeu o Nobel de Literatura de 1999. Também é reconhecido como um dos principais representantes do teatro do absurdo da Alemanha. Seu nome é por vezes grafado Günter Graß.\", \n",
      "      \"http://dbpedia.org/ontology/deathDate\": \"2015-04-13\", \n",
      "      \"http://www.w3.org/1999/02/22-rdf-syntax-ns#type\": { \"__deferred\": { \"uri\": \"http://dbpedia.org/class/yago/CausalAgent100007347\" } }, \n",
      "      \"http://www.w3.org/2000/01/rdf-schema#comment\": \"Günter Wilhelm Grass, né le 16 octobre 1927 à Danzig-Langfuhr et mort le 13 avril 2015 à Lübeck, est un écrivain et artiste allemand. Lauréat du prix Nobel de littérature en 1999, Grass est principalement connu pour son roman Le Tambour.\", \n",
      "      \"http://www.w3.org/1999/02/22-rdf-syntax-ns#type\": { \"__deferred\": { \"uri\": \"http://dbpedia.org/class/yago/Citizen109923673\" } }, \n",
      "      \"http://purl.org/dc/terms/subject\": { \"__deferred\": { \"uri\": \"http://dbpedia.org/resource/Category:German_Nobel_laureates\" } }, \n",
      "      \"http://dbpedia.org/ontology/birthName\": \"Günter Wilhelm Graß\", \n",
      "      \"http://dbpedia.org/ontology/abstract\": \"Günter Wilhelm Grass (ur. 16 października 1927 w Gdańsku, zm. 13 kwietnia 2015 w Lubece) – niemiecki pisarz narodowości niemiecko-kaszubskiej, laureat Nagrody Nobla w dziedzinie literatury w 1999 roku. Doktor honoris causa Uniwersytetu Gdańskiego (za wybitną twórczość literacką oraz wkład w polsko-niemieckie pojednanie) oraz Uniwersytetu im. Adama Mickiewicza w Poznaniu. W 1993 Rada Miasta przyznała pisarzowi tytuł Honorowego Obywatela Miasta Gdańska.\", \n",
      "      \"http://xmlns.com/foaf/0.1/givenName\": \"Günter\", \n",
      "      \"http://www.w3.org/1999/02/22-rdf-syntax-ns#type\": { \"__deferred\": { \"uri\": \"http://dbpedia.org/class/yago/Writer110794014\" } }, \n",
      "      \"http://www.w3.org/2000/01/rdf-schema#label\": \"Günter Grass\", \n",
      "      \"http://www.w3.org/1999/02/22-rdf-syntax-ns#type\": { \"__deferred\": { \"uri\": \"http://dbpedia.org/class/yago/Wikicat21st-centuryGermanWriters\" } }, \n",
      "      \"http://www.w3.org/2000/01/rdf-schema#label\": \"Günter Grass\", \n",
      "      \"http://www.w3.org/1999/02/22-rdf-syntax-ns#type\": { \"__deferred\": { \"uri\": \"http://dbpedia.org/class/yago/Dramatist110030277\" } }, \n",
      "      \"http://dbpedia.org/ontology/abstract\": \"ギュンター・グラス（Günter Grass, 1927年10月16日 - 2015年4月13日）は、ドイツの小説家、劇作家、版画家、彫刻家。代表作に『ブリキの太鼓』など。1999年にノーベル文学賞受賞。\", \n",
      "      \"http://www.w3.org/1999/02/22-rdf-syntax-ns#type\": { \"__deferred\": { \"uri\": \"http://dbpedia.org/class/yago/National109625401\" } }, \n",
      "      \"http://dbpedia.org/property/before\": \"Henrik, Prince of Denmark\", \n",
      "      \"http://www.w3.org/2002/07/owl#sameAs\": { \"__deferred\": { \"uri\": \"http://it.dbpedia.org/resource/Günter_Grass\" } }, \n",
      "      \"http://purl.org/dc/terms/subject\": { \"__deferred\": { \"uri\": \"http://dbpedia.org/resource/Category:German_male_poets\" } }, \n",
      "      \"http://xmlns.com/foaf/0.1/surname\": \"Grass\", \n",
      "      \"http://www.w3.org/2000/01/rdf-schema#comment\": \"Гюнтер Грасс (нем. Günter Grass или Graß [ˈɡʏntɐ ˈɡʀas]; 16 октября 1927, Вольный город Данциг — 13 апреля 2015, Любек, Германия) — немецкий писатель, скульптор, художник, график, лауреат Нобелевской премии по литературе 1999 года.\", \n",
      "      \"http://www.w3.org/1999/02/22-rdf-syntax-ns#type\": { \"__deferred\": { \"uri\": \"http://dbpedia.org/class/yago/Refugee110516016\" } }, \n",
      "      \"http://www.w3.org/1999/02/22-rdf-syntax-ns#type\": { \"__deferred\": { \"uri\": \"http://dbpedia.org/class/yago/PhysicalEntity100001930\" } }, \n",
      "      \"http://www.w3.org/1999/02/22-rdf-syntax-ns#type\": { \"__deferred\": { \"uri\": \"http://dbpedia.org/class/yago/Peer109626238\" } }, \n",
      "      \"http://www.w3.org/2002/07/owl#sameAs\": { \"__deferred\": { \"uri\": \"http://rdf.freebase.com/ns/m.0g_xg\" } }, \n",
      "      \"http://dbpedia.org/ontology/activeYearsStartYear\": \"1956\", \n",
      "      \"http://www.w3.org/1999/02/22-rdf-syntax-ns#type\": { \"__deferred\": { \"uri\": \"http://dbpedia.org/class/yago/Artist109812338\" } }, \n",
      "      \"http://www.w3.org/2000/01/rdf-schema#comment\": \"Günter Wilhelm Grass (German: [ˈɡʏntɐ ˈɡʁas]; 16 October 1927 – 13 April 2015) was a German novelist, poet, playwright, illustrator, graphic artist, sculptor, and recipient of the 1999 Nobel Prize in Literature.\", \n",
      "      \"http://www.w3.org/1999/02/22-rdf-syntax-ns#type\": { \"__deferred\": { \"uri\": \"http://dbpedia.org/class/yago/WikicatPeopleFromGdańsk\" } }, \n",
      "      \"http://dbpedia.org/ontology/ethnicity\": { \"__deferred\": { \"uri\": \"http://dbpedia.org/resource/German_language\" } }, \n",
      "      \"http://dbpedia.org/ontology/abstract\": \"Günter Wilhelm Grass (Danzig-Langfuhr, 16 oktober 1927 – Lübeck, 13 april 2015) was een Duitse schrijver en beeldend kunstenaar van Duits-Kasjoebische afkomst. In 1999 ontving hij de Nobelprijs voor de Literatuur.\", \n",
      "      \"http://www.w3.org/1999/02/22-rdf-syntax-ns#type\": { \"__deferred\": { \"uri\": \"http://dbpedia.org/class/yago/Autobiographer109825296\" } }, \n",
      "      \"http://www.w3.org/1999/02/22-rdf-syntax-ns#type\": { \"__deferred\": { \"uri\": \"http://dbpedia.org/class/yago/WikicatGermanPrintmakers\" } }, \n",
      "      \"http://www.w3.org/1999/02/22-rdf-syntax-ns#type\": { \"__deferred\": { \"uri\": \"http://www.ontologydesignpatterns.org/ont/dul/DUL.owl#NaturalPerson\" } }, \n",
      "      \"http://www.w3.org/1999/02/22-rdf-syntax-ns#type\": { \"__deferred\": { \"uri\": \"http://dbpedia.org/class/yago/PrizeWinner109627807\" } }, \n",
      "      \"http://www.w3.org/1999/02/22-rdf-syntax-ns#type\": { \"__deferred\": { \"uri\": \"http://dbpedia.org/class/yago/Recipient109627906\" } }, \n",
      "      \"http://dbpedia.org/ontology/birthPlace\": { \"__deferred\": { \"uri\": \"http://dbpedia.org/resource/Wrzeszcz\" } }, \n",
      "      \"http://dbpedia.org/ontology/wikiPageRevisionID\": \"744781559\", \n",
      "      \"http://www.w3.org/1999/02/22-rdf-syntax-ns#type\": { \"__deferred\": { \"uri\": \"http://dbpedia.org/class/yago/WikicatGermanAutobiographers\" } }, \n",
      "      \"http://xmlns.com/foaf/0.1/isPrimaryTopicOf\": { \"__deferred\": { \"uri\": \"http://en.wikipedia.org/wiki/Günter_Grass\" } }, \n",
      "      \"http://www.w3.org/2002/07/owl#sameAs\": { \"__deferred\": { \"uri\": \"http://viaf.org/viaf/102319859\" } }, \n",
      "      \"http://www.w3.org/1999/02/22-rdf-syntax-ns#type\": { \"__deferred\": { \"uri\": \"http://dbpedia.org/class/yago/WikicatGermanRefugees\" } }, \n",
      "      \"http://www.w3.org/1999/02/22-rdf-syntax-ns#type\": { \"__deferred\": { \"uri\": \"http://dbpedia.org/class/yago/Whole100003553\" } }, \n",
      "      \"http://www.w3.org/1999/02/22-rdf-syntax-ns#type\": { \"__deferred\": { \"uri\": \"http://dbpedia.org/class/yago/YagoLegalActor\" } }, \n",
      "      \"http://www.w3.org/1999/02/22-rdf-syntax-ns#type\": { \"__deferred\": { \"uri\": \"http://dbpedia.org/class/yago/WikicatAutobiographers\" } }, \n",
      "      \"http://dbpedia.org/ontology/wikiPageExternalLink\": { \"__deferred\": { \"uri\": \"http://www.guardian.co.uk/secondworldwar/story/0,,1843187,00.html\" } }, \n",
      "      \"http://www.w3.org/1999/02/22-rdf-syntax-ns#type\": { \"__deferred\": { \"uri\": \"http://dbpedia.org/class/yago/Communicator109610660\" } }, \n",
      "      \"http://www.w3.org/2002/07/owl#sameAs\": { \"__deferred\": { \"uri\": \"http://wikidata.dbpedia.org/resource/Q6538\" } }, \n",
      "      \"http://purl.org/dc/terms/subject\": { \"__deferred\": { \"uri\": \"http://dbpedia.org/resource/Category:German_prisoners_of_war_in_World_War_II\" } }, \n",
      "      \"http://www.w3.org/1999/02/22-rdf-syntax-ns#type\": { \"__deferred\": { \"uri\": \"http://umbel.org/umbel/rc/Artist\" } }, \n",
      "      \"http://www.w3.org/1999/02/22-rdf-syntax-ns#type\": { \"__deferred\": { \"uri\": \"http://dbpedia.org/class/yago/WikicatGermanIllustrators\" } }, \n",
      "      \"http://purl.org/dc/terms/subject\": { \"__deferred\": { \"uri\": \"http://dbpedia.org/resource/Category:Members_of_the_Academy_of_the_Arts,_Berlin\" } }, \n",
      "      \"http://purl.org/linguistics/gold/hypernym\": { \"__deferred\": { \"uri\": \"http://dbpedia.org/resource/Novelist\" } }, \n",
      "      \"http://purl.org/dc/terms/subject\": { \"__deferred\": { \"uri\": \"http://dbpedia.org/resource/Category:German_sculptors\" } }, \n",
      "      \"http://www.w3.org/1999/02/22-rdf-syntax-ns#type\": { \"__deferred\": { \"uri\": \"http://dbpedia.org/class/yago/Creator109614315\" } }, \n",
      "      \"http://www.w3.org/2002/07/owl#sameAs\": { \"__deferred\": { \"uri\": \"http://ja.dbpedia.org/resource/ギュンター・グラス\" } }, \n",
      "      \"http://www.w3.org/2000/01/rdf-schema#label\": \"Günter Grass\", \n",
      "      \"http://www.w3.org/1999/02/22-rdf-syntax-ns#type\": { \"__deferred\": { \"uri\": \"http://dbpedia.org/class/yago/Colleague109935990\" } }, \n",
      "      \"http://www.w3.org/2002/07/owl#sameAs\": { \"__deferred\": { \"uri\": \"http://www.wikidata.org/entity/Q6538\" } }, \n",
      "      \"http://dbpedia.org/property/title\": \"Awards received by Günter Grass\", \n",
      "      \"http://dbpedia.org/ontology/deathPlace\": { \"__deferred\": { \"uri\": \"http://dbpedia.org/resource/Lübeck\" } }, \n",
      "      \"http://www.w3.org/1999/02/22-rdf-syntax-ns#type\": { \"__deferred\": { \"uri\": \"http://dbpedia.org/class/yago/Winner110782791\" } }, \n",
      "      \"http://www.w3.org/2002/07/owl#sameAs\": { \"__deferred\": { \"uri\": \"http://nl.dbpedia.org/resource/Günter_Grass\" } }, \n",
      "      \"http://dbpedia.org/ontology/wikiPageExternalLink\": { \"__deferred\": { \"uri\": \"http://www.gdansk-life.com/poland/gunter-grass\" } }, \n",
      "      \"http://dbpedia.org/ontology/deathDate\": \"2015-4-13\", \n",
      "      \"http://www.w3.org/1999/02/22-rdf-syntax-ns#type\": { \"__deferred\": { \"uri\": \"http://dbpedia.org/class/yago/WikicatWriters\" } }, \n",
      "      \"http://www.w3.org/1999/02/22-rdf-syntax-ns#type\": { \"__deferred\": { \"uri\": \"http://www.wikidata.org/entity/Q5\" } }, \n",
      "      \"http://www.w3.org/1999/02/22-rdf-syntax-ns#type\": { \"__deferred\": { \"uri\": \"http://www.wikidata.org/entity/Q24229398\" } }, \n",
      "      \"http://www.w3.org/1999/02/22-rdf-syntax-ns#type\": { \"__deferred\": { \"uri\": \"http://dbpedia.org/class/yago/Screenwriter110564400\" } }, \n",
      "      \"http://www.w3.org/1999/02/22-rdf-syntax-ns#type\": { \"__deferred\": { \"uri\": \"http://dbpedia.org/class/yago/WikicatGerman-languageWriters\" } }, \n",
      "      \"http://dbpedia.org/ontology/thumbnail\": { \"__deferred\": { \"uri\": \"http://commons.wikimedia.org/wiki/Special:FilePath/Günter_Grass_auf_dem_Blauen_Sofa.jpg?width=300\" } }, \n",
      "      \"http://www.w3.org/1999/02/22-rdf-syntax-ns#type\": { \"__deferred\": { \"uri\": \"http://dbpedia.org/class/yago/WikicatGermanWriters\" } }, \n",
      "      \"http://purl.org/dc/terms/subject\": { \"__deferred\": { \"uri\": \"http://dbpedia.org/resource/Category:20th-century_essayists\" } }, \n",
      "      \"http://www.w3.org/1999/02/22-rdf-syntax-ns#type\": { \"__deferred\": { \"uri\": \"http://dbpedia.org/class/yago/Organism100004475\" } }, \n",
      "      \"http://www.w3.org/1999/02/22-rdf-syntax-ns#type\": { \"__deferred\": { \"uri\": \"http://dbpedia.org/class/yago/Leader109623038\" } }, \n",
      "      \"http://purl.org/dc/terms/subject\": { \"__deferred\": { \"uri\": \"http://dbpedia.org/resource/Category:20th-century_German_poets\" } }, \n",
      "      \"http://dbpedia.org/property/after\": \"Emmelie de Forest\", \n",
      "      \"http://www.w3.org/1999/02/22-rdf-syntax-ns#type\": { \"__deferred\": { \"uri\": \"http://dbpedia.org/class/yago/Worker109632518\" } }, \n",
      "      \"http://www.w3.org/1999/02/22-rdf-syntax-ns#type\": { \"__deferred\": { \"uri\": \"http://dbpedia.org/class/yago/WikicatGermanSculptors\" } }, \n",
      "      \"http://www.w3.org/2002/07/owl#sameAs\": { \"__deferred\": { \"uri\": \"http://d-nb.info/gnd/118541579\" } }, \n",
      "      \"http://www.w3.org/1999/02/22-rdf-syntax-ns#type\": { \"__deferred\": { \"uri\": \"http://dbpedia.org/ontology/Person\" } }, \n",
      "      \"http://www.w3.org/2000/01/rdf-schema#comment\": \"غونتر غراس (بالألمانية: Günter Grass) أديب ألماني (16 أكتوبر 1927 - 13 أبريل 2015) ولد في في مدينة دانتسيغ (ضمت إلى بولندا بعد الحرب العالمية الثانية). شارك غونتر غراس سنة 1944 في الحرب العالمية الثانية كمساعد في سلاح الطيران الألماني. وبعد انتهاء الحرب وقع سنة 1946 في أسر القوات الأمريكية إلى أن أطلق سراحه في نفس السنة. يعد غونتر غراس أحد أهم الأدباء الألمان في فترة ما بعد الحرب العالمية الثانية, حاز على جائزة نوبل للآداب سنة 1999.عاش آخر أيامه بالقرب من مدينة لوبيك في شمال ألمانيا.\", \n",
      "      \"http://dbpedia.org/ontology/abstract\": \"Günter Wilhelm Grass, né le 16 octobre 1927 à Danzig-Langfuhr et mort le 13 avril 2015 à Lübeck, est un écrivain et artiste allemand. Lauréat du prix Nobel de littérature en 1999, Grass est principalement connu pour son roman Le Tambour. Marquée par l&#39;expérience traumatique du nazisme, son œuvre, baroque et ironique, puise son inspiration dans son origine germano-polonaise et condense réalisme et mythe afin d&#39;explorer les méandres de l&#39;Histoire, la mémoire et la culpabilité. Considéré comme l&#39;un des plus grands écrivains allemands contemporains et le plus célèbre auteur germanophone de la seconde moitié du XXe siècle, il est aussi remarqué pour ses prises de positions politiques à l&#39;origine de nombreuses controverses en Allemagne et à l&#39;international.\", \n",
      "      \"http://www.w3.org/1999/02/22-rdf-syntax-ns#type\": { \"__deferred\": { \"uri\": \"http://dbpedia.org/class/yago/WikicatKunstakademieDüsseldorfAlumni\" } }, \n",
      "      \"http://www.w3.org/1999/02/22-rdf-syntax-ns#type\": { \"__deferred\": { \"uri\": \"http://dbpedia.org/class/yago/WikicatGermanDramatistsAndPlaywrights\" } }, \n",
      "      \"http://dbpedia.org/ontology/birthDate\": \"1927-10-16\", \n",
      "      \"http://www.w3.org/2002/07/owl#sameAs\": { \"__deferred\": { \"uri\": \"http://id.dbpedia.org/resource/Günter_Grass\" } }, \n",
      "      \"http://www.w3.org/1999/02/22-rdf-syntax-ns#type\": { \"__deferred\": { \"uri\": \"http://dbpedia.org/class/yago/Novelist110363573\" } }, \n",
      "      \"http://purl.org/dc/terms/subject\": { \"__deferred\": { \"uri\": \"http://dbpedia.org/resource/Category:2015_deaths\" } }, \n",
      "      \"http://www.w3.org/2002/07/owl#sameAs\": { \"__deferred\": { \"uri\": \"http://el.dbpedia.org/resource/Γκύντερ_Γκρας\" } }, \n",
      "      \"http://www.w3.org/1999/02/22-rdf-syntax-ns#type\": { \"__deferred\": { \"uri\": \"http://dbpedia.org/class/yago/WikicatSSSoldiers\" } }, \n",
      "      \"http://purl.org/dc/terms/subject\": { \"__deferred\": { \"uri\": \"http://dbpedia.org/resource/Category:20th-century_German_novelists\" } }, \n",
      "      \"http://www.w3.org/2002/07/owl#sameAs\": { \"__deferred\": { \"uri\": \"http://de.dbpedia.org/resource/Günter_Grass\" } }, \n",
      "      \"http://www.w3.org/1999/02/22-rdf-syntax-ns#type\": { \"__deferred\": { \"uri\": \"http://www.wikidata.org/entity/Q215627\" } }, \n",
      "      \"http://purl.org/dc/terms/subject\": { \"__deferred\": { \"uri\": \"http://dbpedia.org/resource/Category:German_refugees\" } }, \n",
      "      \"http://dbpedia.org/ontology/notableWork\": { \"__deferred\": { \"uri\": \"http://dbpedia.org/resource/The_Tin_Drum\" } }, \n",
      "      \"http://dbpedia.org/ontology/occupation\": { \"__deferred\": { \"uri\": \"http://dbpedia.org/resource/Graphic_designer\" } }, \n",
      "      \"http://dbpedia.org/ontology/notableWork\": { \"__deferred\": { \"uri\": \"http://dbpedia.org/resource/What_Must_Be_Said\" } }, \n",
      "      \"http://www.w3.org/2002/07/owl#sameAs\": { \"__deferred\": { \"uri\": \"http://fr.dbpedia.org/resource/Günter_Grass\" } }, \n",
      "      \"http://purl.org/dc/terms/subject\": { \"__deferred\": { \"uri\": \"http://dbpedia.org/resource/Category:Magic_realism_writers\" } }, \n",
      "      \"http://www.w3.org/1999/02/22-rdf-syntax-ns#type\": { \"__deferred\": { \"uri\": \"http://dbpedia.org/class/yago/WikicatScreenwriters\" } }, \n",
      "      \"http://purl.org/dc/terms/subject\": { \"__deferred\": { \"uri\": \"http://dbpedia.org/resource/Category:German_socialists\" } }, \n",
      "      \"http://www.w3.org/1999/02/22-rdf-syntax-ns#type\": { \"__deferred\": { \"uri\": \"http://dbpedia.org/class/yago/LivingThing100004258\" } }, \n",
      "      \"http://www.w3.org/2002/07/owl#sameAs\": { \"__deferred\": { \"uri\": \"http://cs.dbpedia.org/resource/Günter_Grass\" } }, \n",
      "      \"http://purl.org/dc/terms/subject\": { \"__deferred\": { \"uri\": \"http://dbpedia.org/resource/Category:Fellows_of_the_Royal_Society_of_Literature\" } }, \n",
      "      \"http://www.w3.org/1999/02/22-rdf-syntax-ns#type\": { \"__deferred\": { \"uri\": \"http://dbpedia.org/class/yago/Scriptwriter110564905\" } }, \n",
      "      \"http://www.w3.org/2002/07/owl#sameAs\": { \"__deferred\": { \"uri\": \"http://pl.dbpedia.org/resource/Günter_Grass\" } }, \n",
      "      \"http://dbpedia.org/ontology/notableWork\": { \"__deferred\": { \"uri\": \"http://dbpedia.org/resource/Crabwalk\" } }, \n",
      "      \"http://www.w3.org/2000/01/rdf-schema#comment\": \"Günter Wilhelm Grass (ur. 16 października 1927 w Gdańsku, zm. 13 kwietnia 2015 w Lubece) – niemiecki pisarz narodowości niemiecko-kaszubskiej, laureat Nagrody Nobla w dziedzinie literatury w 1999 roku. Doktor honoris causa Uniwersytetu Gdańskiego (za wybitną twórczość literacką oraz wkład w polsko-niemieckie pojednanie) oraz Uniwersytetu im. Adama Mickiewicza w Poznaniu. W 1993 Rada Miasta przyznała pisarzowi tytuł Honorowego Obywatela Miasta Gdańska.\", \n",
      "      \"http://www.w3.org/1999/02/22-rdf-syntax-ns#type\": { \"__deferred\": { \"uri\": \"http://dbpedia.org/class/yago/YagoLegalActorGeo\" } }, \n",
      "      \"http://www.w3.org/1999/02/22-rdf-syntax-ns#type\": { \"__deferred\": { \"uri\": \"http://dbpedia.org/class/yago/WikicatGermanSocialists\" } }, \n",
      "      \"http://www.w3.org/1999/02/22-rdf-syntax-ns#type\": { \"__deferred\": { \"uri\": \"http://www.ontologydesignpatterns.org/ont/dul/DUL.owl#Agent\" } }, \n",
      "      \"http://purl.org/dc/terms/subject\": { \"__deferred\": { \"uri\": \"http://dbpedia.org/resource/Category:1927_births\" } }, \n",
      "      \"http://purl.org/dc/terms/subject\": { \"__deferred\": { \"uri\": \"http://dbpedia.org/resource/Category:Writers_who_illustrated_their_own_writing\" } }, \n",
      "      \"http://www.w3.org/1999/02/22-rdf-syntax-ns#type\": { \"__deferred\": { \"uri\": \"http://xmlns.com/foaf/0.1/Person\" } }, \n",
      "      \"http://www.w3.org/1999/02/22-rdf-syntax-ns#type\": { \"__deferred\": { \"uri\": \"http://dbpedia.org/class/yago/Wikicat20th-centuryNovelists\" } }, \n",
      "      \"http://www.w3.org/1999/02/22-rdf-syntax-ns#type\": { \"__deferred\": { \"uri\": \"http://dbpedia.org/class/yago/WikicatGermanNovelists\" } }\n",
      "     } \n",
      " ], \"__count\": \"1\"\n",
      " } }\n"
     ]
    }
   ],
   "source": [
    "gunter_grass = requests.get(\"http://dbpedia.org/data/G%C3%BCnter_Grass.jsod\")\n",
    "print(gunter_grass.content.decode(\"utf-8\"))"
   ]
  },
  {
   "cell_type": "markdown",
   "metadata": {},
   "source": [
    "## Tarefa\n",
    "### Quais os livros escritos por Günter Grass?"
   ]
  },
  {
   "cell_type": "code",
   "execution_count": 4,
   "metadata": {},
   "outputs": [
    {
     "name": "stdout",
     "output_type": "stream",
     "text": [
      "Günter Grass is author of The_Tin_Drum, The_Meeting_at_Telgte, The_Box_(Grass_book), Local_Anaesthetic_(novel), The_Flounder, Cat_and_Mouse_(novella), Dog_Years_(novel), Crabwalk, The_Call_of_the_Toad, The_Rat_(novel), \n"
     ]
    }
   ],
   "source": [
    "author_page = requests.get('http://dbpedia.org/data/G%C3%BCnter_Grass.json')\n",
    "author_json = author_page.json()\n",
    "author_of = []\n",
    "for i in author_json: # if it has ontology/author then it's one of Grass'books\n",
    "    try:\n",
    "        aux = author_json[i]['http://dbpedia.org/ontology/author']\n",
    "        author_of.append(i.split('/')[len(i.split('/')) - 1])\n",
    "    except:\n",
    "        aux = 0\n",
    "print('Günter Grass is author of', end=' ')\n",
    "for i in author_of:\n",
    "    print(i, end=\", \")\n",
    "print()"
   ]
  },
  {
   "cell_type": "markdown",
   "metadata": {},
   "source": [
    "# MeSH - Medical Subject Headings\n",
    "\n",
    "## Pesquisa para humanos\n",
    "\n",
    "Através do endereço [MeSH Search](https://meshb.nlm.nih.gov/search).\n",
    "\n",
    "Procure o termo: Myocardial Infarction.\n",
    "\n",
    "## Serviços para Máquinas\n",
    "\n",
    "É possível acessar os mesmos dados pela [API JSON](https://id.nlm.nih.gov/mesh/swagger/ui).\n",
    "\n",
    "Buscando o código de Myocardial Infarction:"
   ]
  },
  {
   "cell_type": "code",
   "execution_count": 5,
   "metadata": {},
   "outputs": [
    {
     "name": "stdout",
     "output_type": "stream",
     "text": [
      "[{\"resource\":\"http://id.nlm.nih.gov/mesh/D009203\",\"label\":\"Myocardial Infarction\"}]\n"
     ]
    }
   ],
   "source": [
    "url_mi = \"https://id.nlm.nih.gov/mesh/lookup/descriptor?label=Myocardial%20Infarction&match=exact&limit=10\"\n",
    "js_mi = requests.get(url_mi)\n",
    "print(js_mi.content.decode(\"utf-8\"))"
   ]
  },
  {
   "cell_type": "markdown",
   "metadata": {},
   "source": [
    "Acessando detalhes a partir do código:"
   ]
  },
  {
   "cell_type": "code",
   "execution_count": null,
   "metadata": {},
   "outputs": [],
   "source": [
    "url_mid = \"https://id.nlm.nih.gov/mesh/lookup/details?descriptor=D009203\"\n",
    "js_mid = requests.get(url_mid)\n",
    "print(js_mid.content.decode(\"utf-8\"))"
   ]
  },
  {
   "cell_type": "markdown",
   "metadata": {},
   "source": [
    "## Tarefa\n",
    "### Quais os termos usados para Aspirina (consulta JSON/MeSH em Python)?"
   ]
  },
  {
   "cell_type": "code",
   "execution_count": 7,
   "metadata": {},
   "outputs": [
    {
     "name": "stdout",
     "output_type": "stream",
     "text": [
      "Os termos usados para aspirina sao (em ingles):\n",
      "* Aspirin\n",
      "* 2-(Acetyloxy)benzoic Acid\n",
      "* Acetylsalicylic Acid\n",
      "* Acetysal\n",
      "* Acylpyrin\n",
      "* Aloxiprimum\n",
      "* Colfarit\n",
      "* Dispril\n",
      "* Easprin\n",
      "* Ecotrin\n",
      "* Endosprin\n",
      "* Magnecyl\n",
      "* Micristin\n",
      "* Polopirin\n",
      "* Polopiryna\n",
      "* Solprin\n",
      "* Solupsan\n",
      "* Zorprin\n"
     ]
    }
   ],
   "source": [
    "# Encontrando Aspirina = Aspirin (ingles de ID D009203)\n",
    "url_aspirin = 'https://id.nlm.nih.gov/mesh/lookup/details?descriptor=D001241'\n",
    "json_page = requests.get(url_aspirin).json()\n",
    "print('Os termos usados para aspirina sao (em ingles):')\n",
    "for i in range(18):\n",
    "    print('*', json_page['terms'][i]['label'])"
   ]
  }
 ],
 "metadata": {
  "kernelspec": {
   "display_name": "Python 3",
   "language": "python",
   "name": "python3"
  },
  "language_info": {
   "codemirror_mode": {
    "name": "ipython",
    "version": 3
   },
   "file_extension": ".py",
   "mimetype": "text/x-python",
   "name": "python",
   "nbconvert_exporter": "python",
   "pygments_lexer": "ipython3",
   "version": "3.6.9"
  }
 },
 "nbformat": 4,
 "nbformat_minor": 4
}
