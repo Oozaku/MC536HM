{
 "cells": [
  {
   "cell_type": "markdown",
   "metadata": {},
   "source": [
    "# World Health Organization Data\n",
    "\n",
    "## Global Health Observatory\n",
    "\n",
    "* [Data query API](https://apps.who.int/gho/data/node.resources.api)\n",
    "* [GHO OData API ](https://www.who.int/data/gho/info/gho-odata-api)\n",
    "\n",
    "Exemplos de API: [https://www.who.int/data/gho/info/athena-api-examples](https://www.who.int/data/gho/info/athena-api-examples).\n",
    "\n",
    "Para se determinar o tipo de informação para acesso veja a [lista de dimensões e códigos](https://apps.who.int/gho/athena/api/GHO). Utilize o código disponível no campo `<Code label=\"\">`. Por exemplo, no campo `<Code Label=\"WHOSIS_000001\">` é possível encontrar o código `WHOSIS_000001` que indica `Life expectancy at birth (years)`.\n",
    "\n",
    "Depois de estabelecida a informação, podem ser configurados parâmetros, com o sufixo `?` depois da URL. Os parâmetros são separados por `&`.\n",
    "\n",
    "Os códigos dos países são encontrados em: [https://apps.who.int/gho/athena/api/COUNTRY](https://apps.who.int/gho/athena/api/COUNTRY)."
   ]
  },
  {
   "cell_type": "markdown",
   "metadata": {},
   "source": [
    "## Importando dados em JSON no Python\n",
    "\n",
    "![JSON](../images/json.png)"
   ]
  },
  {
   "cell_type": "code",
   "execution_count": null,
   "metadata": {},
   "outputs": [],
   "source": [
    "import io\n",
    "import requests\n",
    "import json\n",
    "url = \"https://apps.who.int/gho/athena/api/GHO/WHOSIS_000001?filter=COUNTRY:BRA&format=json\"\n",
    "js = requests.get(url).content\n",
    "print(js.decode(\"utf-8\"))"
   ]
  },
  {
   "cell_type": "markdown",
   "metadata": {},
   "source": [
    "### Mostrando o Copyright"
   ]
  },
  {
   "cell_type": "code",
   "execution_count": null,
   "metadata": {},
   "outputs": [],
   "source": [
    "import io\n",
    "import requests\n",
    "import json\n",
    "url = \"https://apps.who.int/gho/athena/api/GHO/WHOSIS_000001?filter=COUNTRY:BRA&format=json\"\n",
    "data = requests.get(url)\n",
    "js = data.json()\n",
    "print(js[\"copyright\"])"
   ]
  },
  {
   "cell_type": "markdown",
   "metadata": {},
   "source": [
    "## Importando dados em CSV no Python\n",
    "\n",
    "![CSV](../images/csv.png)"
   ]
  },
  {
   "cell_type": "markdown",
   "metadata": {},
   "source": [
    "# Mostrando o Copyright"
   ]
  },
  {
   "cell_type": "code",
   "execution_count": null,
   "metadata": {},
   "outputs": [],
   "source": []
  },
  {
   "cell_type": "markdown",
   "metadata": {},
   "source": [
    "# Importando dados em XML no Python\n",
    "\n",
    "![XML](../images/xml.png)"
   ]
  },
  {
   "cell_type": "code",
   "execution_count": null,
   "metadata": {},
   "outputs": [],
   "source": [
    "import io\n",
    "import requests\n",
    "import xml.etree.ElementTree as et\n",
    "url = \"https://apps.who.int/gho/athena/api/GHO/WHOSIS_000001?filter=COUNTRY:BRA\"\n",
    "data = requests.get(url).content\n",
    "x = et.parse(io.StringIO(data.decode(\"utf-8\")))\n",
    "print(x)"
   ]
  },
  {
   "cell_type": "markdown",
   "metadata": {},
   "source": [
    "# Mostrando o Copyright"
   ]
  },
  {
   "cell_type": "markdown",
   "metadata": {},
   "source": [
    "# Tarefa 1\n",
    "\n",
    "Das fontes de dados disponíveis, tente encontrar fontes com formatos diferentes e importá-las via Python. Busque pelo menos dois formatos."
   ]
  },
  {
   "cell_type": "code",
   "execution_count": 1,
   "metadata": {},
   "outputs": [
    {
     "name": "stdout",
     "output_type": "stream",
     "text": [
      "Karabin Farms\n"
     ]
    }
   ],
   "source": [
    "import io\n",
    "import requests\n",
    "import json\n",
    "url = \"https://data.ct.gov/resource/y6p2-px98.json?category=Fruit&item=Peaches\"\n",
    "data = requests.get(url)\n",
    "js = data.json()\n",
    "print(js[0]['farm_name'])"
   ]
  },
  {
   "cell_type": "code",
   "execution_count": 2,
   "metadata": {},
   "outputs": [
    {
     "name": "stdout",
     "output_type": "stream",
     "text": [
      "                              farm_name category     item  farmer_id  \\\n",
      "0                         Karabin Farms    Fruit  Peaches       7243   \n",
      "1             SCOTT'S ORCHARD & NURSERY    Fruit  Peaches       8320   \n",
      "2                         Gardner Farms    Fruit  Peaches      13396   \n",
      "3                Smoke and Mirrors Farm    Fruit  Peaches       9878   \n",
      "4  Wright's Orchard & Dried Flower Farm    Fruit  Peaches       9135   \n",
      "\n",
      "                                  website suite     zipcode        phone1  \\\n",
      "0             http://www.karabinfarms.com   NaN       06489  860-620-0194   \n",
      "1  http://www.scottsorchardandnursery.com   NaN       06033  860-633-8681   \n",
      "2                                     NaN   NaN  06281-3025  860-974-2471   \n",
      "3                                     NaN   NaN       06482           NaN   \n",
      "4           http://www.wrightsorchard.com   NaN       06084  860-872-1665   \n",
      "\n",
      "                               business     l  \\\n",
      "0                         Karabin Farms  13.0   \n",
      "1             SCOTT'S ORCHARD & NURSERY  25.0   \n",
      "2                         Gardner Farms  13.0   \n",
      "3                Smoke and Mirrors Farm  22.0   \n",
      "4  Wright's Orchard & Dried Flower Farm  36.0   \n",
      "\n",
      "                                     location_1         location_1_address  \\\n",
      "0  POINT (-72.82920259099967 41.61609643000048)         894 Andrews Street   \n",
      "1  POINT (-72.56006305799963 41.68711478200049)   1838 New London Turnpike   \n",
      "2   POINT (-72.03418229599964 41.9996829800005)      109 Redhead Hill Road   \n",
      "3  POINT (-73.28371050499965 41.44197777000045)  120 Walnut Tree Hill Road   \n",
      "4  POINT (-72.31161142799965 41.86535803200047)       271 South River Road   \n",
      "\n",
      "  location_1_city location_1_state location_1_zip  \n",
      "0     Southington               CT          06489  \n",
      "1     Glastonbury               CT          06033  \n",
      "2       Woodstock               CT     06281-3025  \n",
      "3      Sandy Hook               CT          06482  \n",
      "4         Tolland               CT          06084  \n"
     ]
    }
   ],
   "source": [
    "import pandas as pd\n",
    "import io\n",
    "import requests\n",
    "url = \"https://data.ct.gov/resource/y6p2-px98.csv?category=Fruit&item=Peaches\"\n",
    "data = requests.get(url).content\n",
    "csv = pd.read_csv(io.StringIO(data.decode(\"utf-8\")))\n",
    "print(csv.head())"
   ]
  },
  {
   "cell_type": "markdown",
   "metadata": {},
   "source": [
    "# Tarefa 2\n",
    "\n",
    "## Engenharia reversa\n",
    "\n",
    "Monte um diagramas que representem modelos dos dados que você terá acesso e como pretende associá-los. Coloque abaixo uma imagem do diagrama."
   ]
  },
  {
   "cell_type": "code",
   "execution_count": null,
   "metadata": {},
   "outputs": [],
   "source": []
  }
 ],
 "metadata": {
  "kernelspec": {
   "display_name": "Python 3",
   "language": "python",
   "name": "python3"
  },
  "language_info": {
   "codemirror_mode": {
    "name": "ipython",
    "version": 3
   },
   "file_extension": ".py",
   "mimetype": "text/x-python",
   "name": "python",
   "nbconvert_exporter": "python",
   "pygments_lexer": "ipython3",
   "version": "3.6.9"
  }
 },
 "nbformat": 4,
 "nbformat_minor": 4
}
